{
 "cells": [
  {
   "cell_type": "markdown",
   "id": "1adc6700",
   "metadata": {},
   "source": [
    "# Linear programming: Part 1\n",
    "\n",
    "by j2kun\n",
    "\n",
    "Optimization is by far one of the richest ways to apply computer science and mathematics to the real world. Everybody is looking to optimize something: companies want to maximize profits, factories want to maximize efficiency, investors want to minimize risk, the list just goes on and on. The mathematical tools for optimization are also some of the richest mathematical techniques. They form the cornerstone of an entire industry known as operations research, and advances in this field literally change the world."
   ]
  },
  {
   "cell_type": "markdown",
   "id": "1701a623",
   "metadata": {},
   "source": [
    "The mathematical field is called <i>combinatorial optimization</i>, and the name comes from the goal of <b>finding optimal solutions more efficiently</b> than an exhaustive search through every possibility. This post will introduce the most central problem in all of combinatorial optimization, known as the linear program. Even better, we know how to efficiently solve linear programs, so in future posts we’ll write a program that computes the most affordable diet while meeting the recommended health standard.\t"
   ]
  },
  {
   "cell_type": "markdown",
   "id": "7017df3a",
   "metadata": {},
   "source": [
    "## Generalizing a Specific Linear Program"
   ]
  },
  {
   "cell_type": "markdown",
   "id": "14b9612a",
   "metadata": {},
   "source": [
    "Most optimization problems have two parts: an objective function, the thing we want to maximize or minimize, and constraints, rules we must abide by to ensure we get a valid solution. As a simple example you may want to minimize the amount of time you spend doing your taxes (objective function), but you certainly can’t spend a negative amount of time on them (a constraint)."
   ]
  },
  {
   "cell_type": "markdown",
   "id": "254d1271",
   "metadata": {},
   "source": [
    "The following more complicated example is the centerpiece of this post. Most people want to minimize the amount of money spent on food. At the same time, one needs to maintain a certain level of nutrition. For males ages 19-30, the United States National Institute for Health recommends 3.7 liters of water per day, 1,000 milligrams of calcium per day, 90 milligrams of vitamin C per day, etc."
   ]
  },
  {
   "cell_type": "code",
   "execution_count": null,
   "id": "43253f09",
   "metadata": {},
   "outputs": [],
   "source": []
  }
 ],
 "metadata": {
  "kernelspec": {
   "display_name": "Python 3 (ipykernel)",
   "language": "python",
   "name": "python3"
  },
  "language_info": {
   "codemirror_mode": {
    "name": "ipython",
    "version": 3
   },
   "file_extension": ".py",
   "mimetype": "text/x-python",
   "name": "python",
   "nbconvert_exporter": "python",
   "pygments_lexer": "ipython3",
   "version": "3.9.10"
  }
 },
 "nbformat": 4,
 "nbformat_minor": 5
}
